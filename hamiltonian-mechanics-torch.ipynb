{
 "cells": [
  {
   "cell_type": "code",
   "execution_count": 387,
   "metadata": {},
   "outputs": [],
   "source": [
    "# https://colindcarroll.com/2019/04/11/hamiltonian-monte-carlo-from-scratch/\n",
    "# hamiltonian monte carlo, implementation 1:\n",
    "import torch\n",
    "import numpy as np\n",
    "import matplotlib.pyplot as plt\n",
    "import scipy.stats as st"
   ]
  },
  {
   "cell_type": "code",
   "execution_count": 466,
   "metadata": {},
   "outputs": [],
   "source": [
    "# https://www.mcmchandbook.net/HandbookChapter5.pdf | 5.2.3.3 The Leapfrog Method\n",
    "def leapfrog(q, p, Vdq, eps):\n",
    "    p -= 0.5 * eps * Vdq(q)\n",
    "    \n",
    "    q.detach_()\n",
    "    q += eps * p\n",
    "    \n",
    "    p -= 0.5 * eps * Vdq(q)\n",
    "    return [q, p]"
   ]
  },
  {
   "cell_type": "code",
   "execution_count": 467,
   "metadata": {},
   "outputs": [],
   "source": [
    "# kinetic energy\n",
    "def K(pi, p, q):\n",
    "    return 0.5 * (p.transpose(-1, 0)  @ p)\n",
    "\n",
    "# potential energy at point p for distribution pi\n",
    "def V(pi, q):\n",
    "    return pi(q)\n",
    "\n",
    "# closure\n",
    "def mkPiVdq(pi):\n",
    "    def vdq(q):\n",
    "        q.detach_()\n",
    "        q.requires_grad_()\n",
    "        vcur = V(pi, q)\n",
    "        vcur.backward()\n",
    "        return q.grad\n",
    "    return vdq"
   ]
  },
  {
   "cell_type": "code",
   "execution_count": 470,
   "metadata": {},
   "outputs": [
    {
     "name": "stdout",
     "output_type": "stream",
     "text": [
      "acceptance ratio: 0.65\n"
     ]
    },
    {
     "data": {
      "text/plain": [
       "[<matplotlib.lines.Line2D at 0x7fda60513668>]"
      ]
     },
     "execution_count": 470,
     "metadata": {},
     "output_type": "execute_result"
    },
    {
     "data": {
      "image/png": "[encoded data removed]",
      "text/plain": [
       "<Figure size 432x288 with 1 Axes>"
      ]
     },
     "metadata": {
      "needs_background": "light"
     },
     "output_type": "display_data"
    }
   ],
   "source": [
    "# pi(q): probability distribution over |R^2\n",
    "# piH(q, p) = pi_pq(p|q) pi(p)\n",
    "# H = - log piH(q, p) = - log pi_pq(p|q) - log pi(q)\n",
    "# H =                   - K              - V\n",
    "# dq/dt =  dH/dp\n",
    "# dp/dt = -dH/dq \n",
    "def hmc(pi, q, p):\n",
    "    accept = 0\n",
    "    momentum = st.norm(0, 1)\n",
    "    qs = []\n",
    "    for _ in range(1000):\n",
    "        # H = K(pi, p, q) + V(pi, q)\n",
    "        prob = -np.log(pi(q).detach().numpy()) - np.sum(momentum.logpdf(p.detach().numpy()))\n",
    "        [q_new, p_new] = leapfrog(q, p, mkPiVdq(pi), 1.0)\n",
    "        \n",
    "        # for time reversal\n",
    "        p_new = -p_new\n",
    "        prob2 = -np.log(pi(q_new).detach().numpy()) - np.sum(momentum.logpdf(p_new.detach().numpy()))\n",
    "        \n",
    "        if np.random.rand() < prob2 / prob:\n",
    "            q = q_new\n",
    "            p = p_new\n",
    "            accept += 1\n",
    "        qs.append(q.detach().numpy())\n",
    "    print(\"acceptance ratio: %4.2f\" % (accept / len(qs)))\n",
    "    return np.array(qs)\n",
    "\n",
    "\n",
    "def prob(x):\n",
    "    return torch.pow(5.0, -(x[0] * x[0]))\n",
    "\n",
    "points = hmc(prob, torch.tensor([2.0]), torch.tensor([0.1]))\n",
    "plt.scatter(points, [1 for _ in range(len(points))], c='g')\n",
    "xs = np.arange(-5, 5, 0.1)\n",
    "ys = [prob(torch.tensor([x])) for x in xs]\n",
    "\n",
    "plt.plot(xs, ys)"
   ]
  },
  {
   "cell_type": "code",
   "execution_count": 481,
   "metadata": {},
   "outputs": [
    {
     "name": "stdout",
     "output_type": "stream",
     "text": [
      "tensor([1., 1.]) tensor([0., 1.])\n",
      "tensor([1., 1.]) tensor([-0.5000, -0.5000])\n",
      "tensor([1.0625, 1.5625]) tensor([-0.2976, -0.4376])\n",
      "tensor([1.0625, 1.5625]) tensor([-0.2976, -0.4376])\n",
      "tensor([1.1994, 2.2344]) tensor([-0.1865, -0.3474])\n",
      "tensor([1.1994, 2.2344]) tensor([-0.1865, -0.3474])\n",
      "tensor([1.3829, 2.9932]) tensor([-0.1272, -0.2753])\n",
      "tensor([1.3829, 2.9932]) tensor([-0.1272, -0.2753])\n",
      "tensor([1.5982, 3.8208]) tensor([-0.0932, -0.2228])\n",
      "tensor([1.5982, 3.8208]) tensor([-0.0932, -0.2228])\n",
      "tensor([1.8369, 4.7041]) tensor([-0.0720, -0.1845])\n",
      "tensor([1.8369, 4.7041]) tensor([-0.0720, -0.1845])\n",
      "tensor([2.0935, 5.6335]) tensor([-0.0580, -0.1560])\n",
      "tensor([2.0935, 5.6335]) tensor([-0.0580, -0.1560])\n",
      "tensor([2.3646, 6.6019]) tensor([-0.0481, -0.1342])\n",
      "tensor([2.3646, 6.6019]) tensor([-0.0481, -0.1342])\n",
      "tensor([2.6477, 7.6038]) tensor([-0.0408, -0.1173])\n",
      "tensor([2.6477, 7.6038]) tensor([-0.0408, -0.1173])\n",
      "tensor([2.9411, 8.6351]) tensor([-0.0353, -0.1038])\n",
      "tensor([2.9411, 8.6351]) tensor([-0.0353, -0.1038])\n",
      "tensor([3.2433, 9.6923]) tensor([-0.0310, -0.0928])\n"
     ]
    },
    {
     "data": {
      "image/png": "[encoded data removed]",
      "text/plain": [
       "<Figure size 432x288 with 1 Axes>"
      ]
     },
     "metadata": {
      "needs_background": "light"
     },
     "output_type": "display_data"
    }
   ],
   "source": [
    "def gravity_simulation():\n",
    "    def gravitation_potential(q): return -1.0 / torch.norm(q)\n",
    "    def gravitational_force(q):\n",
    "        qnorm = q.norm()\n",
    "        qdir = q / qnorm\n",
    "        f =  qdir / qnorm\n",
    "        print(q, f)\n",
    "        return f\n",
    "    def gravitation_potential_dq(q):\n",
    "        q.detach_()\n",
    "        q.requires_grad_()\n",
    "        vcur = gravitation_potential(q)\n",
    "        vcur.backward()\n",
    "        print(q, q.grad)    \n",
    "        return q.grad\n",
    "\n",
    "    q = torch.tensor([1.0, 1.0])\n",
    "    p = torch.tensor([0.0, 1.0])\n",
    "    qs = [q.detach().numpy()]\n",
    "    print(q, p)\n",
    "    for i in range(10):\n",
    "        [q, p] = leapfrog(q, p, gravitational_force, 1.0 / 2.0)\n",
    "\n",
    "        qs.append(q.detach().numpy())\n",
    "    qs = np.array(qs)\n",
    "    plt.scatter(qs[:, 0], qs[:, 1])\n",
    "    plt.xlim(-2, 2)\n",
    "    plt.ylim(-2, 2)\n",
    "\n",
    "gravity_simulation()"
   ]
  },
  {
   "cell_type": "code",
   "execution_count": null,
   "metadata": {},
   "outputs": [],
   "source": []
  },
  {
   "cell_type": "code",
   "execution_count": null,
   "metadata": {},
   "outputs": [],
   "source": []
  }
 ],
 "metadata": {
  "kernelspec": {
   "display_name": "Python 3",
   "language": "python",
   "name": "python3"
  },
  "language_info": {
   "codemirror_mode": {
    "name": "ipython",
    "version": 3
   },
   "file_extension": ".py",
   "mimetype": "text/x-python",
   "name": "python",
   "nbconvert_exporter": "python",
   "pygments_lexer": "ipython3",
   "version": "3.5.2"
  }
 },
 "nbformat": 4,
 "nbformat_minor": 2
}
